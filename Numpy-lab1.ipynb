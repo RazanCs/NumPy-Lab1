{
 "cells": [
  {
   "cell_type": "code",
   "execution_count": 1,
   "id": "3dd75a25",
   "metadata": {},
   "outputs": [],
   "source": [
    "import numpy as np\n"
   ]
  },
  {
   "cell_type": "code",
   "execution_count": 6,
   "id": "c0d7a3f5",
   "metadata": {},
   "outputs": [],
   "source": [
    "x=np.ones((3,3))\n"
   ]
  },
  {
   "cell_type": "code",
   "execution_count": 7,
   "id": "ec77d322",
   "metadata": {},
   "outputs": [
    {
     "data": {
      "text/plain": [
       "array([[1., 1., 1.],\n",
       "       [1., 1., 1.],\n",
       "       [1., 1., 1.]])"
      ]
     },
     "execution_count": 7,
     "metadata": {},
     "output_type": "execute_result"
    }
   ],
   "source": [
    "x"
   ]
  },
  {
   "cell_type": "code",
   "execution_count": 8,
   "id": "3a204677",
   "metadata": {},
   "outputs": [],
   "source": [
    "y=np.zeros((3, 3))"
   ]
  },
  {
   "cell_type": "code",
   "execution_count": 9,
   "id": "60d56241",
   "metadata": {},
   "outputs": [
    {
     "data": {
      "text/plain": [
       "array([[0., 0., 0.],\n",
       "       [0., 0., 0.],\n",
       "       [0., 0., 0.]])"
      ]
     },
     "execution_count": 9,
     "metadata": {},
     "output_type": "execute_result"
    }
   ],
   "source": [
    "y"
   ]
  },
  {
   "cell_type": "code",
   "execution_count": 11,
   "id": "e04b0d81",
   "metadata": {},
   "outputs": [
    {
     "data": {
      "text/plain": [
       "array([[1., 1., 1.],\n",
       "       [1., 1., 1.],\n",
       "       [1., 1., 1.]])"
      ]
     },
     "execution_count": 11,
     "metadata": {},
     "output_type": "execute_result"
    }
   ],
   "source": [
    "x+y"
   ]
  },
  {
   "cell_type": "code",
   "execution_count": 14,
   "id": "2ecd6d9d",
   "metadata": {},
   "outputs": [
    {
     "name": "stdout",
     "output_type": "stream",
     "text": [
      "number of dimensions =  2\n",
      "shape =  (3, 3)\n",
      "size =  9\n",
      "type =  float64\n"
     ]
    }
   ],
   "source": [
    "# Print x array characteristics (e.g: dimension, shape, size, type)\n",
    "print('number of dimensions = ', x.ndim)\n",
    "print('shape = ', x.shape)\n",
    "print('size = ', x.size)\n",
    "print('type = ', x.dtype)"
   ]
  },
  {
   "cell_type": "code",
   "execution_count": 43,
   "id": "f89ac106",
   "metadata": {},
   "outputs": [
    {
     "data": {
      "text/plain": [
       "array([[11, 12],\n",
       "       [13, 14],\n",
       "       [15, 16]])"
      ]
     },
     "execution_count": 43,
     "metadata": {},
     "output_type": "execute_result"
    }
   ],
   "source": [
    "# Create a 2D array \"called w\" as the following:\n",
    "#11\t12\n",
    "#13\t14\n",
    "#15\t16\n",
    "w = np.array([[11, 12], [13,14],[15,16]])\n",
    "w\n"
   ]
  },
  {
   "cell_type": "code",
   "execution_count": 61,
   "id": "9919d42d",
   "metadata": {},
   "outputs": [
    {
     "data": {
      "text/plain": [
       "array([1, 2])"
      ]
     },
     "execution_count": 61,
     "metadata": {},
     "output_type": "execute_result"
    }
   ],
   "source": [
    "z = np.arange(1,3)\n",
    "z"
   ]
  },
  {
   "cell_type": "code",
   "execution_count": 63,
   "id": "d3153eba",
   "metadata": {},
   "outputs": [
    {
     "data": {
      "text/plain": [
       "array([[ 1,  2],\n",
       "       [11, 12],\n",
       "       [13, 14],\n",
       "       [15, 16]])"
      ]
     },
     "execution_count": 63,
     "metadata": {},
     "output_type": "execute_result"
    }
   ],
   "source": [
    "# Combine the arrays z and w in vertical way then save it in a new variable \"newArray\"\n",
    "newArray=np.vstack((z, w))\n",
    "newArray"
   ]
  },
  {
   "cell_type": "code",
   "execution_count": 65,
   "id": "8c0affbb",
   "metadata": {},
   "outputs": [
    {
     "name": "stdout",
     "output_type": "stream",
     "text": [
      "1\n",
      "2\n",
      "11\n",
      "12\n",
      "13\n",
      "14\n",
      "15\n",
      "16\n"
     ]
    }
   ],
   "source": [
    "# Print all elements of \"newArray\" using the loop.\n",
    "for row in newArray :\n",
    "    for item in row:\n",
    "        print(item)"
   ]
  },
  {
   "cell_type": "code",
   "execution_count": 68,
   "id": "84960833",
   "metadata": {},
   "outputs": [
    {
     "data": {
      "text/plain": [
       "array([[ 1,  2],\n",
       "       [11, 12],\n",
       "       [13, 14],\n",
       "       [15, 16]])"
      ]
     },
     "execution_count": 68,
     "metadata": {},
     "output_type": "execute_result"
    }
   ],
   "source": [
    "#Reverse the columns and rows of \"newArray\"\n",
    "newArray=np.flipud(newArray)\n",
    "newArray"
   ]
  },
  {
   "cell_type": "code",
   "execution_count": 69,
   "id": "b5ff4fc9",
   "metadata": {},
   "outputs": [
    {
     "data": {
      "text/plain": [
       "array([[ 0,  1],\n",
       "       [10, 11],\n",
       "       [12, 13],\n",
       "       [14, 15]])"
      ]
     },
     "execution_count": 69,
     "metadata": {},
     "output_type": "execute_result"
    }
   ],
   "source": [
    " #Decrement all elements of \"newArray\" with 1.\n",
    "newArray-= 1\n",
    "newArray"
   ]
  },
  {
   "cell_type": "code",
   "execution_count": 71,
   "id": "254e394c",
   "metadata": {},
   "outputs": [
    {
     "data": {
      "text/plain": [
       "0"
      ]
     },
     "execution_count": 71,
     "metadata": {},
     "output_type": "execute_result"
    }
   ],
   "source": [
    "#Find smallest and biggest values in \"newArray\n",
    "newArray.min()\n"
   ]
  },
  {
   "cell_type": "code",
   "execution_count": 72,
   "id": "bdae3273",
   "metadata": {},
   "outputs": [
    {
     "data": {
      "text/plain": [
       "15"
      ]
     },
     "execution_count": 72,
     "metadata": {},
     "output_type": "execute_result"
    }
   ],
   "source": [
    "newArray.max()"
   ]
  },
  {
   "cell_type": "code",
   "execution_count": 73,
   "id": "a471b724",
   "metadata": {},
   "outputs": [
    {
     "data": {
      "text/plain": [
       "array([0, 1])"
      ]
     },
     "execution_count": 73,
     "metadata": {},
     "output_type": "execute_result"
    }
   ],
   "source": [
    "# Print the first row of \"newArray\" using indexing\n",
    "newArray[0]"
   ]
  },
  {
   "cell_type": "code",
   "execution_count": 75,
   "id": "a69e533f",
   "metadata": {},
   "outputs": [
    {
     "data": {
      "text/plain": [
       "12"
      ]
     },
     "execution_count": 75,
     "metadata": {},
     "output_type": "execute_result"
    }
   ],
   "source": [
    "#Print the number equals 12 of \"newArray\" using indexing\n",
    "newArray[2][0]"
   ]
  },
  {
   "cell_type": "code",
   "execution_count": 114,
   "id": "617ca1c8",
   "metadata": {},
   "outputs": [
    {
     "data": {
      "text/plain": [
       "array([0])"
      ]
     },
     "execution_count": 114,
     "metadata": {},
     "output_type": "execute_result"
    }
   ],
   "source": [
    "#Print the numbers equal 0 and 13 of \"newArray\" using Slicing\n",
    "newArray[0, 0:-1]\n"
   ]
  },
  {
   "cell_type": "code",
   "execution_count": 113,
   "id": "4c5b47f4",
   "metadata": {},
   "outputs": [
    {
     "data": {
      "text/plain": [
       "array([13])"
      ]
     },
     "execution_count": 113,
     "metadata": {},
     "output_type": "execute_result"
    }
   ],
   "source": [
    "newArray[2,-1:2]"
   ]
  },
  {
   "cell_type": "code",
   "execution_count": 112,
   "id": "e339d779",
   "metadata": {},
   "outputs": [
    {
     "data": {
      "text/plain": [
       "array([[ 0],\n",
       "       [ 1],\n",
       "       [10],\n",
       "       [11],\n",
       "       [12],\n",
       "       [13],\n",
       "       [14],\n",
       "       [15]])"
      ]
     },
     "execution_count": 112,
     "metadata": {},
     "output_type": "execute_result"
    }
   ],
   "source": [
    "#Change the shape of \"newArray\" to (9,1)\n",
    "x=newArray.reshape(8,1)\n",
    "x"
   ]
  },
  {
   "cell_type": "code",
   "execution_count": null,
   "id": "60c56e68",
   "metadata": {},
   "outputs": [],
   "source": [
    "#Change the shape of \"newArray\" to (3,2).\n",
    "no answer"
   ]
  }
 ],
 "metadata": {
  "kernelspec": {
   "display_name": "Python 3 (ipykernel)",
   "language": "python",
   "name": "python3"
  },
  "language_info": {
   "codemirror_mode": {
    "name": "ipython",
    "version": 3
   },
   "file_extension": ".py",
   "mimetype": "text/x-python",
   "name": "python",
   "nbconvert_exporter": "python",
   "pygments_lexer": "ipython3",
   "version": "3.9.12"
  }
 },
 "nbformat": 4,
 "nbformat_minor": 5
}
